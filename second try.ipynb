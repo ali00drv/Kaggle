{
 "cells": [
  {
   "cell_type": "markdown",
   "id": "43acece6-9ca7-4ecd-a6f7-52040cf408ec",
   "metadata": {},
   "source": [
    "# imports"
   ]
  },
  {
   "cell_type": "code",
   "execution_count": 475,
   "id": "21d9f77a-9203-4521-8e40-a5da506fc148",
   "metadata": {},
   "outputs": [],
   "source": [
    "import numpy as np\n",
    "import pandas as pd\n",
    "from sklearn.preprocessing import LabelEncoder\n",
    "from sklearn.preprocessing import StandardScaler\n",
    "from sklearn.model_selection import train_test_split"
   ]
  },
  {
   "cell_type": "code",
   "execution_count": 476,
   "id": "42c3ed1d-dfdc-4f0b-8d73-5ffed11476ed",
   "metadata": {},
   "outputs": [],
   "source": [
    "df= pd.read_csv('train.csv')"
   ]
  },
  {
   "cell_type": "code",
   "execution_count": 477,
   "id": "020aea68-4a13-4954-b88d-fbb3e166e7a6",
   "metadata": {},
   "outputs": [
    {
     "data": {
      "text/html": [
       "<div>\n",
       "<style scoped>\n",
       "    .dataframe tbody tr th:only-of-type {\n",
       "        vertical-align: middle;\n",
       "    }\n",
       "\n",
       "    .dataframe tbody tr th {\n",
       "        vertical-align: top;\n",
       "    }\n",
       "\n",
       "    .dataframe thead th {\n",
       "        text-align: right;\n",
       "    }\n",
       "</style>\n",
       "<table border=\"1\" class=\"dataframe\">\n",
       "  <thead>\n",
       "    <tr style=\"text-align: right;\">\n",
       "      <th></th>\n",
       "      <th>Pclass</th>\n",
       "      <th>Fare</th>\n",
       "    </tr>\n",
       "  </thead>\n",
       "  <tbody>\n",
       "    <tr>\n",
       "      <th>0</th>\n",
       "      <td>3</td>\n",
       "      <td>7.2500</td>\n",
       "    </tr>\n",
       "    <tr>\n",
       "      <th>1</th>\n",
       "      <td>1</td>\n",
       "      <td>71.2833</td>\n",
       "    </tr>\n",
       "    <tr>\n",
       "      <th>2</th>\n",
       "      <td>3</td>\n",
       "      <td>7.9250</td>\n",
       "    </tr>\n",
       "    <tr>\n",
       "      <th>3</th>\n",
       "      <td>1</td>\n",
       "      <td>53.1000</td>\n",
       "    </tr>\n",
       "    <tr>\n",
       "      <th>4</th>\n",
       "      <td>3</td>\n",
       "      <td>8.0500</td>\n",
       "    </tr>\n",
       "    <tr>\n",
       "      <th>5</th>\n",
       "      <td>3</td>\n",
       "      <td>8.4583</td>\n",
       "    </tr>\n",
       "    <tr>\n",
       "      <th>6</th>\n",
       "      <td>1</td>\n",
       "      <td>51.8625</td>\n",
       "    </tr>\n",
       "    <tr>\n",
       "      <th>7</th>\n",
       "      <td>3</td>\n",
       "      <td>21.0750</td>\n",
       "    </tr>\n",
       "    <tr>\n",
       "      <th>8</th>\n",
       "      <td>3</td>\n",
       "      <td>11.1333</td>\n",
       "    </tr>\n",
       "    <tr>\n",
       "      <th>9</th>\n",
       "      <td>2</td>\n",
       "      <td>30.0708</td>\n",
       "    </tr>\n",
       "    <tr>\n",
       "      <th>10</th>\n",
       "      <td>3</td>\n",
       "      <td>16.7000</td>\n",
       "    </tr>\n",
       "    <tr>\n",
       "      <th>11</th>\n",
       "      <td>1</td>\n",
       "      <td>26.5500</td>\n",
       "    </tr>\n",
       "    <tr>\n",
       "      <th>12</th>\n",
       "      <td>3</td>\n",
       "      <td>8.0500</td>\n",
       "    </tr>\n",
       "    <tr>\n",
       "      <th>13</th>\n",
       "      <td>3</td>\n",
       "      <td>31.2750</td>\n",
       "    </tr>\n",
       "    <tr>\n",
       "      <th>14</th>\n",
       "      <td>3</td>\n",
       "      <td>7.8542</td>\n",
       "    </tr>\n",
       "    <tr>\n",
       "      <th>15</th>\n",
       "      <td>2</td>\n",
       "      <td>16.0000</td>\n",
       "    </tr>\n",
       "    <tr>\n",
       "      <th>16</th>\n",
       "      <td>3</td>\n",
       "      <td>29.1250</td>\n",
       "    </tr>\n",
       "    <tr>\n",
       "      <th>17</th>\n",
       "      <td>2</td>\n",
       "      <td>13.0000</td>\n",
       "    </tr>\n",
       "    <tr>\n",
       "      <th>18</th>\n",
       "      <td>3</td>\n",
       "      <td>18.0000</td>\n",
       "    </tr>\n",
       "    <tr>\n",
       "      <th>19</th>\n",
       "      <td>3</td>\n",
       "      <td>7.2250</td>\n",
       "    </tr>\n",
       "  </tbody>\n",
       "</table>\n",
       "</div>"
      ],
      "text/plain": [
       "    Pclass     Fare\n",
       "0        3   7.2500\n",
       "1        1  71.2833\n",
       "2        3   7.9250\n",
       "3        1  53.1000\n",
       "4        3   8.0500\n",
       "5        3   8.4583\n",
       "6        1  51.8625\n",
       "7        3  21.0750\n",
       "8        3  11.1333\n",
       "9        2  30.0708\n",
       "10       3  16.7000\n",
       "11       1  26.5500\n",
       "12       3   8.0500\n",
       "13       3  31.2750\n",
       "14       3   7.8542\n",
       "15       2  16.0000\n",
       "16       3  29.1250\n",
       "17       2  13.0000\n",
       "18       3  18.0000\n",
       "19       3   7.2250"
      ]
     },
     "execution_count": 477,
     "metadata": {},
     "output_type": "execute_result"
    }
   ],
   "source": [
    "df[['Pclass','Fare']].head(20)"
   ]
  },
  {
   "cell_type": "markdown",
   "id": "a47fc309-5509-4093-b9ed-d360970b88d9",
   "metadata": {},
   "source": [
    "# data cleaning"
   ]
  },
  {
   "cell_type": "code",
   "execution_count": 478,
   "id": "2454cd6e-0ca0-4ea2-98b5-2fef24fd98f9",
   "metadata": {},
   "outputs": [],
   "source": [
    "df = df.drop('Name', axis=1)\n",
    "df = df.drop('Cabin', axis=1)\n",
    "df = df.drop('Ticket', axis=1)\n",
    "Embarked_encoder = LabelEncoder()\n",
    "Embarked_encoder = Embarked_encoder.fit(df.Embarked)\n",
    "df.Embarked=Embarked_encoder.transform(df.Embarked)\n",
    "df = df.fillna(25)\n",
    "sex_encoder = LabelEncoder()\n",
    "sex_encoder = sex_encoder.fit(df.Sex)\n",
    "df.Sex=sex_encoder.transform(df.Sex)\n",
    "#prices=df.Age\n",
    "Mean_Age = np.mean(df.Age)\n",
    "Std_Age = np.std(df.Age)\n",
    "df.Age = (df.Age - Mean_Age) / Std_Age\n",
    "Mean_Fare = np.mean(df.Fare)\n",
    "Std_Fare = np.std(df.Fare)\n",
    "df.Fare = (df.Fare - Mean_Fare) / Std_Fare"
   ]
  },
  {
   "cell_type": "code",
   "execution_count": 479,
   "id": "90c86ec9-c2a0-479d-87fc-a3a512fcef7e",
   "metadata": {},
   "outputs": [
    {
     "data": {
      "text/html": [
       "<div>\n",
       "<style scoped>\n",
       "    .dataframe tbody tr th:only-of-type {\n",
       "        vertical-align: middle;\n",
       "    }\n",
       "\n",
       "    .dataframe tbody tr th {\n",
       "        vertical-align: top;\n",
       "    }\n",
       "\n",
       "    .dataframe thead th {\n",
       "        text-align: right;\n",
       "    }\n",
       "</style>\n",
       "<table border=\"1\" class=\"dataframe\">\n",
       "  <thead>\n",
       "    <tr style=\"text-align: right;\">\n",
       "      <th></th>\n",
       "      <th>PassengerId</th>\n",
       "      <th>Survived</th>\n",
       "      <th>Pclass</th>\n",
       "      <th>Sex</th>\n",
       "      <th>Age</th>\n",
       "      <th>SibSp</th>\n",
       "      <th>Parch</th>\n",
       "      <th>Fare</th>\n",
       "      <th>Embarked</th>\n",
       "    </tr>\n",
       "  </thead>\n",
       "  <tbody>\n",
       "    <tr>\n",
       "      <th>0</th>\n",
       "      <td>1</td>\n",
       "      <td>0</td>\n",
       "      <td>3</td>\n",
       "      <td>1</td>\n",
       "      <td>-0.515308</td>\n",
       "      <td>1</td>\n",
       "      <td>0</td>\n",
       "      <td>-0.502445</td>\n",
       "      <td>2</td>\n",
       "    </tr>\n",
       "    <tr>\n",
       "      <th>1</th>\n",
       "      <td>2</td>\n",
       "      <td>1</td>\n",
       "      <td>1</td>\n",
       "      <td>0</td>\n",
       "      <td>0.703343</td>\n",
       "      <td>1</td>\n",
       "      <td>0</td>\n",
       "      <td>0.786845</td>\n",
       "      <td>0</td>\n",
       "    </tr>\n",
       "    <tr>\n",
       "      <th>2</th>\n",
       "      <td>3</td>\n",
       "      <td>1</td>\n",
       "      <td>3</td>\n",
       "      <td>0</td>\n",
       "      <td>-0.210646</td>\n",
       "      <td>0</td>\n",
       "      <td>0</td>\n",
       "      <td>-0.488854</td>\n",
       "      <td>2</td>\n",
       "    </tr>\n",
       "    <tr>\n",
       "      <th>3</th>\n",
       "      <td>4</td>\n",
       "      <td>1</td>\n",
       "      <td>1</td>\n",
       "      <td>0</td>\n",
       "      <td>0.474846</td>\n",
       "      <td>1</td>\n",
       "      <td>0</td>\n",
       "      <td>0.420730</td>\n",
       "      <td>2</td>\n",
       "    </tr>\n",
       "    <tr>\n",
       "      <th>4</th>\n",
       "      <td>5</td>\n",
       "      <td>0</td>\n",
       "      <td>3</td>\n",
       "      <td>1</td>\n",
       "      <td>0.474846</td>\n",
       "      <td>0</td>\n",
       "      <td>0</td>\n",
       "      <td>-0.486337</td>\n",
       "      <td>2</td>\n",
       "    </tr>\n",
       "  </tbody>\n",
       "</table>\n",
       "</div>"
      ],
      "text/plain": [
       "   PassengerId  Survived  Pclass  Sex       Age  SibSp  Parch      Fare  \\\n",
       "0            1         0       3    1 -0.515308      1      0 -0.502445   \n",
       "1            2         1       1    0  0.703343      1      0  0.786845   \n",
       "2            3         1       3    0 -0.210646      0      0 -0.488854   \n",
       "3            4         1       1    0  0.474846      1      0  0.420730   \n",
       "4            5         0       3    1  0.474846      0      0 -0.486337   \n",
       "\n",
       "   Embarked  \n",
       "0         2  \n",
       "1         0  \n",
       "2         2  \n",
       "3         2  \n",
       "4         2  "
      ]
     },
     "execution_count": 479,
     "metadata": {},
     "output_type": "execute_result"
    }
   ],
   "source": [
    "df.head()"
   ]
  },
  {
   "cell_type": "markdown",
   "id": "8d1e7d29-8ae9-427d-9660-bb89ff405fde",
   "metadata": {},
   "source": [
    "# datasets"
   ]
  },
  {
   "cell_type": "code",
   "execution_count": 480,
   "id": "659c40c0-bd72-47f2-88f9-edfb9c4f8f5b",
   "metadata": {},
   "outputs": [],
   "source": [
    "target = df.Survived"
   ]
  },
  {
   "cell_type": "code",
   "execution_count": 481,
   "id": "a7a11af5-0c9f-4f5f-bfab-a187372168fc",
   "metadata": {},
   "outputs": [],
   "source": [
    "data = df[['Pclass','Sex','Age','Fare']]"
   ]
  },
  {
   "cell_type": "code",
   "execution_count": 482,
   "id": "d72a9ea9-477e-4c8a-93a6-05dda8b0f04f",
   "metadata": {},
   "outputs": [
    {
     "data": {
      "text/html": [
       "<div>\n",
       "<style scoped>\n",
       "    .dataframe tbody tr th:only-of-type {\n",
       "        vertical-align: middle;\n",
       "    }\n",
       "\n",
       "    .dataframe tbody tr th {\n",
       "        vertical-align: top;\n",
       "    }\n",
       "\n",
       "    .dataframe thead th {\n",
       "        text-align: right;\n",
       "    }\n",
       "</style>\n",
       "<table border=\"1\" class=\"dataframe\">\n",
       "  <thead>\n",
       "    <tr style=\"text-align: right;\">\n",
       "      <th></th>\n",
       "      <th>Pclass</th>\n",
       "      <th>Sex</th>\n",
       "      <th>Age</th>\n",
       "      <th>Fare</th>\n",
       "    </tr>\n",
       "  </thead>\n",
       "  <tbody>\n",
       "    <tr>\n",
       "      <th>0</th>\n",
       "      <td>3</td>\n",
       "      <td>1</td>\n",
       "      <td>-0.515308</td>\n",
       "      <td>-0.502445</td>\n",
       "    </tr>\n",
       "    <tr>\n",
       "      <th>1</th>\n",
       "      <td>1</td>\n",
       "      <td>0</td>\n",
       "      <td>0.703343</td>\n",
       "      <td>0.786845</td>\n",
       "    </tr>\n",
       "    <tr>\n",
       "      <th>2</th>\n",
       "      <td>3</td>\n",
       "      <td>0</td>\n",
       "      <td>-0.210646</td>\n",
       "      <td>-0.488854</td>\n",
       "    </tr>\n",
       "    <tr>\n",
       "      <th>3</th>\n",
       "      <td>1</td>\n",
       "      <td>0</td>\n",
       "      <td>0.474846</td>\n",
       "      <td>0.420730</td>\n",
       "    </tr>\n",
       "    <tr>\n",
       "      <th>4</th>\n",
       "      <td>3</td>\n",
       "      <td>1</td>\n",
       "      <td>0.474846</td>\n",
       "      <td>-0.486337</td>\n",
       "    </tr>\n",
       "  </tbody>\n",
       "</table>\n",
       "</div>"
      ],
      "text/plain": [
       "   Pclass  Sex       Age      Fare\n",
       "0       3    1 -0.515308 -0.502445\n",
       "1       1    0  0.703343  0.786845\n",
       "2       3    0 -0.210646 -0.488854\n",
       "3       1    0  0.474846  0.420730\n",
       "4       3    1  0.474846 -0.486337"
      ]
     },
     "execution_count": 482,
     "metadata": {},
     "output_type": "execute_result"
    }
   ],
   "source": [
    "data.head()"
   ]
  },
  {
   "cell_type": "code",
   "execution_count": 483,
   "id": "e4995a96-4fe6-480a-893b-e440ec875c94",
   "metadata": {},
   "outputs": [],
   "source": [
    "X_train, X_test, y_train, y_test = train_test_split(data, target, test_size=0.025,shuffle=True)"
   ]
  },
  {
   "cell_type": "code",
   "execution_count": 484,
   "id": "06a6e846-f651-47cd-88dd-a54fe036b20d",
   "metadata": {},
   "outputs": [
    {
     "name": "stdout",
     "output_type": "stream",
     "text": [
      "23\n",
      "868\n"
     ]
    }
   ],
   "source": [
    "print(len(X_test))\n",
    "print(len(X_train))"
   ]
  },
  {
   "cell_type": "code",
   "execution_count": 485,
   "id": "12a0465b-f638-4daf-9150-a16b0ebe3564",
   "metadata": {},
   "outputs": [
    {
     "name": "stdout",
     "output_type": "stream",
     "text": [
      "Logistic Regression Accuracy: 0.7826\n",
      "Logistic Regression Accuracy: 0.7826\n",
      "Logistic Regression Accuracy: 0.7826\n",
      "Logistic Regression Accuracy: 0.7826\n",
      "Logistic Regression Accuracy: 0.7826\n",
      "Logistic Regression Accuracy: 0.7826\n",
      "Logistic Regression Accuracy: 0.7826\n",
      "Logistic Regression Accuracy: 0.7826\n",
      "Logistic Regression Accuracy: 0.7826\n",
      "Logistic Regression Accuracy: 0.7826\n"
     ]
    }
   ],
   "source": [
    "for i in range(10):\n",
    "    from sklearn.linear_model import LogisticRegression\n",
    "    model = LogisticRegression()\n",
    "    model.fit(X_train, y_train)\n",
    "    score = model.score(X_test, y_test)\n",
    "    print(f\"Logistic Regression Accuracy: {score:.4f}\")"
   ]
  },
  {
   "cell_type": "code",
   "execution_count": 486,
   "id": "9115d545-0d4f-4435-9d37-3387e5fa21bf",
   "metadata": {},
   "outputs": [
    {
     "name": "stdout",
     "output_type": "stream",
     "text": [
      "SVM Accuracy: 0.7826\n",
      "SVM Accuracy: 0.7826\n",
      "SVM Accuracy: 0.7826\n",
      "SVM Accuracy: 0.7826\n",
      "SVM Accuracy: 0.7826\n",
      "SVM Accuracy: 0.7826\n",
      "SVM Accuracy: 0.7826\n",
      "SVM Accuracy: 0.7826\n",
      "SVM Accuracy: 0.7826\n",
      "SVM Accuracy: 0.7826\n"
     ]
    }
   ],
   "source": [
    "for i in range(10):\n",
    "        \n",
    "    from sklearn.svm import SVC\n",
    "    \n",
    "    model = SVC()\n",
    "    model.fit(X_train, y_train)\n",
    "    score = model.score(X_test, y_test)\n",
    "    print(f\"SVM Accuracy: {score:.4f}\")"
   ]
  },
  {
   "cell_type": "code",
   "execution_count": 487,
   "id": "d1253789-027b-4328-a2b4-ac98f4e71c11",
   "metadata": {},
   "outputs": [
    {
     "name": "stdout",
     "output_type": "stream",
     "text": [
      "KNN Accuracy: 0.8696\n",
      "KNN Accuracy: 0.8696\n",
      "KNN Accuracy: 0.8696\n",
      "KNN Accuracy: 0.8696\n",
      "KNN Accuracy: 0.8696\n",
      "KNN Accuracy: 0.8696\n",
      "KNN Accuracy: 0.8696\n",
      "KNN Accuracy: 0.8696\n",
      "KNN Accuracy: 0.8696\n",
      "KNN Accuracy: 0.8696\n"
     ]
    }
   ],
   "source": [
    "for i in range(10):\n",
    "    from sklearn.neighbors import KNeighborsClassifier\n",
    "        \n",
    "    model = KNeighborsClassifier(n_neighbors=5)\n",
    "    model.fit(X_train, y_train)\n",
    "    score = model.score(X_test, y_test)\n",
    "    print(f\"KNN Accuracy: {score:.4f}\")\n"
   ]
  },
  {
   "cell_type": "code",
   "execution_count": 488,
   "id": "61cfd212-3d0b-4df5-9b80-46417008eb6a",
   "metadata": {},
   "outputs": [
    {
     "name": "stdout",
     "output_type": "stream",
     "text": [
      "Decision Tree Accuracy: 0.8261\n",
      "Decision Tree Accuracy: 0.8261\n",
      "Decision Tree Accuracy: 0.8261\n",
      "Decision Tree Accuracy: 0.8261\n",
      "Decision Tree Accuracy: 0.8261\n",
      "Decision Tree Accuracy: 0.8261\n",
      "Decision Tree Accuracy: 0.8261\n",
      "Decision Tree Accuracy: 0.8261\n",
      "Decision Tree Accuracy: 0.8261\n",
      "Decision Tree Accuracy: 0.8261\n"
     ]
    }
   ],
   "source": [
    "for i in range(10):\n",
    "    from sklearn.tree import DecisionTreeClassifier\n",
    "    \n",
    "    model = DecisionTreeClassifier()\n",
    "    model.fit(X_train, y_train)\n",
    "    score = model.score(X_test, y_test)\n",
    "    print(f\"Decision Tree Accuracy: {score:.4f}\")\n"
   ]
  },
  {
   "cell_type": "code",
   "execution_count": 489,
   "id": "69451fbb-21f8-4332-97db-283d7a54ce8a",
   "metadata": {},
   "outputs": [
    {
     "name": "stdout",
     "output_type": "stream",
     "text": [
      "Random Forest Accuracy: 0.8696\n",
      "Random Forest Accuracy: 0.8696\n",
      "Random Forest Accuracy: 0.8696\n",
      "Random Forest Accuracy: 0.8696\n",
      "Random Forest Accuracy: 0.8696\n",
      "Random Forest Accuracy: 0.8696\n",
      "Random Forest Accuracy: 0.8696\n",
      "Random Forest Accuracy: 0.8696\n",
      "Random Forest Accuracy: 0.8696\n",
      "Random Forest Accuracy: 0.8696\n"
     ]
    }
   ],
   "source": [
    "for i in range(10):\n",
    "    from sklearn.ensemble import RandomForestClassifier\n",
    "    \n",
    "    model1 = RandomForestClassifier()\n",
    "    model1.fit(X_train, y_train)\n",
    "    score = model1.score(X_test, y_test)\n",
    "    print(f\"Random Forest Accuracy: {score:.4f}\")\n"
   ]
  },
  {
   "cell_type": "code",
   "execution_count": 505,
   "id": "2f5bb93d-8cc7-44b7-913a-3c3c3ee0945e",
   "metadata": {},
   "outputs": [
    {
     "name": "stdout",
     "output_type": "stream",
     "text": [
      "Gradient Boosting Accuracy: 0.9130\n",
      "Gradient Boosting Accuracy: 0.9130\n",
      "Gradient Boosting Accuracy: 0.9130\n",
      "Gradient Boosting Accuracy: 0.9130\n",
      "Gradient Boosting Accuracy: 0.9130\n",
      "Gradient Boosting Accuracy: 0.9130\n",
      "Gradient Boosting Accuracy: 0.9130\n",
      "Gradient Boosting Accuracy: 0.9130\n",
      "Gradient Boosting Accuracy: 0.9130\n",
      "Gradient Boosting Accuracy: 0.9130\n"
     ]
    }
   ],
   "source": [
    "for i in range(10):\n",
    "    from sklearn.ensemble import GradientBoostingClassifier\n",
    "    \n",
    "    model = GradientBoostingClassifier()\n",
    "    model.fit(X_train, y_train)\n",
    "    score = model.score(X_test, y_test)\n",
    "    print(f\"Gradient Boosting Accuracy: {score:.4f}\")\n"
   ]
  },
  {
   "cell_type": "code",
   "execution_count": 491,
   "id": "df75968e-3601-44a0-b347-d8901879b6b6",
   "metadata": {},
   "outputs": [
    {
     "name": "stdout",
     "output_type": "stream",
     "text": [
      "AdaBoost Accuracy: 0.8696\n",
      "AdaBoost Accuracy: 0.8696\n",
      "AdaBoost Accuracy: 0.8696\n",
      "AdaBoost Accuracy: 0.8696\n",
      "AdaBoost Accuracy: 0.8696\n",
      "AdaBoost Accuracy: 0.8696\n",
      "AdaBoost Accuracy: 0.8696\n",
      "AdaBoost Accuracy: 0.8696\n",
      "AdaBoost Accuracy: 0.8696\n",
      "AdaBoost Accuracy: 0.8696\n"
     ]
    }
   ],
   "source": [
    "for i in range(10):\n",
    "    from sklearn.ensemble import AdaBoostClassifier\n",
    "    \n",
    "    model = AdaBoostClassifier()\n",
    "    model.fit(X_train, y_train)\n",
    "    score = model.score(X_test, y_test)\n",
    "    print(f\"AdaBoost Accuracy: {score:.4f}\")\n"
   ]
  },
  {
   "cell_type": "code",
   "execution_count": 492,
   "id": "58d4ac81-b3db-4f0d-a604-a6f95d87ce5f",
   "metadata": {},
   "outputs": [
    {
     "name": "stdout",
     "output_type": "stream",
     "text": [
      "Naive Bayes Accuracy: 0.7826\n",
      "Naive Bayes Accuracy: 0.7826\n",
      "Naive Bayes Accuracy: 0.7826\n",
      "Naive Bayes Accuracy: 0.7826\n",
      "Naive Bayes Accuracy: 0.7826\n",
      "Naive Bayes Accuracy: 0.7826\n",
      "Naive Bayes Accuracy: 0.7826\n",
      "Naive Bayes Accuracy: 0.7826\n",
      "Naive Bayes Accuracy: 0.7826\n",
      "Naive Bayes Accuracy: 0.7826\n"
     ]
    }
   ],
   "source": [
    "for i in range(10):\n",
    "    from sklearn.naive_bayes import GaussianNB\n",
    "    \n",
    "    model = GaussianNB()\n",
    "    model.fit(X_train, y_train)\n",
    "    score = model.score(X_test, y_test)\n",
    "    print(f\"Naive Bayes Accuracy: {score:.4f}\")\n"
   ]
  },
  {
   "cell_type": "code",
   "execution_count": 493,
   "id": "5ae2844e-77dc-499f-9ad3-00968d9348c6",
   "metadata": {},
   "outputs": [
    {
     "name": "stdout",
     "output_type": "stream",
     "text": [
      "SGD Accuracy: 0.7391\n",
      "SGD Accuracy: 0.7826\n",
      "SGD Accuracy: 0.6087\n",
      "SGD Accuracy: 0.7826\n",
      "SGD Accuracy: 0.7826\n",
      "SGD Accuracy: 0.7826\n",
      "SGD Accuracy: 0.7826\n",
      "SGD Accuracy: 0.7826\n",
      "SGD Accuracy: 0.7391\n",
      "SGD Accuracy: 0.7826\n"
     ]
    }
   ],
   "source": [
    "for i in range(10):\n",
    "    from sklearn.linear_model import SGDClassifier\n",
    "    \n",
    "    model = SGDClassifier()\n",
    "    model.fit(X_train, y_train)\n",
    "    score = model.score(X_test, y_test)\n",
    "    print(f\"SGD Accuracy: {score:.4f}\")\n"
   ]
  },
  {
   "cell_type": "code",
   "execution_count": 494,
   "id": "96ca933e-ffbb-44f9-8ad6-b1f5a162cb44",
   "metadata": {},
   "outputs": [
    {
     "name": "stdout",
     "output_type": "stream",
     "text": [
      "XGBoost Accuracy: 0.8696"
     ]
    },
    {
     "name": "stderr",
     "output_type": "stream",
     "text": [
      "C:\\Users\\ASUS\\AppData\\Local\\Programs\\Python\\Python311\\Lib\\site-packages\\xgboost\\core.py:158: UserWarning: [14:48:49] WARNING: C:\\buildkite-agent\\builds\\buildkite-windows-cpu-autoscaling-group-i-0015a694724fa8361-1\\xgboost\\xgboost-ci-windows\\src\\learner.cc:740: \n",
      "Parameters: { \"use_label_encoder\" } are not used.\n",
      "\n",
      "  warnings.warn(smsg, UserWarning)\n",
      "C:\\Users\\ASUS\\AppData\\Local\\Programs\\Python\\Python311\\Lib\\site-packages\\xgboost\\core.py:158: UserWarning: [14:48:49] WARNING: C:\\buildkite-agent\\builds\\buildkite-windows-cpu-autoscaling-group-i-0015a694724fa8361-1\\xgboost\\xgboost-ci-windows\\src\\learner.cc:740: \n",
      "Parameters: { \"use_label_encoder\" } are not used.\n",
      "\n",
      "  warnings.warn(smsg, UserWarning)\n",
      "C:\\Users\\ASUS\\AppData\\Local\\Programs\\Python\\Python311\\Lib\\site-packages\\xgboost\\core.py:158: UserWarning: [14:48:49] WARNING: C:\\buildkite-agent\\builds\\buildkite-windows-cpu-autoscaling-group-i-0015a694724fa8361-1\\xgboost\\xgboost-ci-windows\\src\\learner.cc:740: \n",
      "Parameters: { \"use_label_encoder\" } are not used.\n",
      "\n",
      "  warnings.warn(smsg, UserWarning)\n"
     ]
    },
    {
     "name": "stdout",
     "output_type": "stream",
     "text": [
      "\n",
      "XGBoost Accuracy: 0.8696\n",
      "XGBoost Accuracy: 0.8696\n"
     ]
    },
    {
     "name": "stderr",
     "output_type": "stream",
     "text": [
      "C:\\Users\\ASUS\\AppData\\Local\\Programs\\Python\\Python311\\Lib\\site-packages\\xgboost\\core.py:158: UserWarning: [14:48:49] WARNING: C:\\buildkite-agent\\builds\\buildkite-windows-cpu-autoscaling-group-i-0015a694724fa8361-1\\xgboost\\xgboost-ci-windows\\src\\learner.cc:740: \n",
      "Parameters: { \"use_label_encoder\" } are not used.\n",
      "\n",
      "  warnings.warn(smsg, UserWarning)\n",
      "C:\\Users\\ASUS\\AppData\\Local\\Programs\\Python\\Python311\\Lib\\site-packages\\xgboost\\core.py:158: UserWarning: [14:48:49] WARNING: C:\\buildkite-agent\\builds\\buildkite-windows-cpu-autoscaling-group-i-0015a694724fa8361-1\\xgboost\\xgboost-ci-windows\\src\\learner.cc:740: \n",
      "Parameters: { \"use_label_encoder\" } are not used.\n",
      "\n",
      "  warnings.warn(smsg, UserWarning)\n",
      "C:\\Users\\ASUS\\AppData\\Local\\Programs\\Python\\Python311\\Lib\\site-packages\\xgboost\\core.py:158: UserWarning: [14:48:49] WARNING: C:\\buildkite-agent\\builds\\buildkite-windows-cpu-autoscaling-group-i-0015a694724fa8361-1\\xgboost\\xgboost-ci-windows\\src\\learner.cc:740: \n",
      "Parameters: { \"use_label_encoder\" } are not used.\n",
      "\n",
      "  warnings.warn(smsg, UserWarning)\n"
     ]
    },
    {
     "name": "stdout",
     "output_type": "stream",
     "text": [
      "XGBoost Accuracy: 0.8696\n",
      "XGBoost Accuracy: 0.8696\n",
      "XGBoost Accuracy: 0.8696\n"
     ]
    },
    {
     "name": "stderr",
     "output_type": "stream",
     "text": [
      "C:\\Users\\ASUS\\AppData\\Local\\Programs\\Python\\Python311\\Lib\\site-packages\\xgboost\\core.py:158: UserWarning: [14:48:49] WARNING: C:\\buildkite-agent\\builds\\buildkite-windows-cpu-autoscaling-group-i-0015a694724fa8361-1\\xgboost\\xgboost-ci-windows\\src\\learner.cc:740: \n",
      "Parameters: { \"use_label_encoder\" } are not used.\n",
      "\n",
      "  warnings.warn(smsg, UserWarning)\n",
      "C:\\Users\\ASUS\\AppData\\Local\\Programs\\Python\\Python311\\Lib\\site-packages\\xgboost\\core.py:158: UserWarning: [14:48:49] WARNING: C:\\buildkite-agent\\builds\\buildkite-windows-cpu-autoscaling-group-i-0015a694724fa8361-1\\xgboost\\xgboost-ci-windows\\src\\learner.cc:740: \n",
      "Parameters: { \"use_label_encoder\" } are not used.\n",
      "\n",
      "  warnings.warn(smsg, UserWarning)\n",
      "C:\\Users\\ASUS\\AppData\\Local\\Programs\\Python\\Python311\\Lib\\site-packages\\xgboost\\core.py:158: UserWarning: [14:48:49] WARNING: C:\\buildkite-agent\\builds\\buildkite-windows-cpu-autoscaling-group-i-0015a694724fa8361-1\\xgboost\\xgboost-ci-windows\\src\\learner.cc:740: \n",
      "Parameters: { \"use_label_encoder\" } are not used.\n",
      "\n",
      "  warnings.warn(smsg, UserWarning)\n"
     ]
    },
    {
     "name": "stdout",
     "output_type": "stream",
     "text": [
      "XGBoost Accuracy: 0.8696\n",
      "XGBoost Accuracy: 0.8696\n",
      "XGBoost Accuracy: 0.8696\n",
      "XGBoost Accuracy: 0.8696\n"
     ]
    },
    {
     "name": "stderr",
     "output_type": "stream",
     "text": [
      "C:\\Users\\ASUS\\AppData\\Local\\Programs\\Python\\Python311\\Lib\\site-packages\\xgboost\\core.py:158: UserWarning: [14:48:49] WARNING: C:\\buildkite-agent\\builds\\buildkite-windows-cpu-autoscaling-group-i-0015a694724fa8361-1\\xgboost\\xgboost-ci-windows\\src\\learner.cc:740: \n",
      "Parameters: { \"use_label_encoder\" } are not used.\n",
      "\n",
      "  warnings.warn(smsg, UserWarning)\n"
     ]
    }
   ],
   "source": [
    "for i in range(10):\n",
    "    import xgboost as xgb\n",
    "    \n",
    "    model = xgb.XGBClassifier(use_label_encoder=False)\n",
    "    model.fit(X_train, y_train)\n",
    "    score = model.score(X_test, y_test)\n",
    "    print(f\"XGBoost Accuracy: {score:.4f}\")\n"
   ]
  },
  {
   "cell_type": "markdown",
   "id": "c52ce37a-5f2c-4ddf-9141-50931cd18c5e",
   "metadata": {},
   "source": [
    "# now we test on test data"
   ]
  },
  {
   "cell_type": "code",
   "execution_count": 506,
   "id": "26c280c4-931f-4090-9253-a21de1b3125c",
   "metadata": {},
   "outputs": [],
   "source": [
    "test = pd.read_csv('test.csv')"
   ]
  },
  {
   "cell_type": "code",
   "execution_count": 507,
   "id": "4c3f4fdf-9e18-4389-9dde-63ebde49f62f",
   "metadata": {},
   "outputs": [],
   "source": [
    "test = test.drop('Name', axis=1)\n",
    "test = test.drop('Cabin', axis=1)\n",
    "test = test.drop('Ticket', axis=1)\n",
    "#Embarked_encoder = LabelEncoder()\n",
    "#Embarked_encoder = Embarked_encoder.fit(df.Embarked)\n",
    "test.Embarked=Embarked_encoder.transform(test.Embarked)\n",
    "test = test.fillna(25)\n",
    "#sex_encoder = LabelEncoder()\n",
    "#sex_encoder = sex_encoder.fit(df.Sex)\n",
    "test.Sex=sex_encoder.transform(test.Sex)\n",
    "#prices=df.Age\n",
    "#Mean_Age = np.mean(df.Age)\n",
    "#Std_Age = np.std(df.Age)\n",
    "test.Age = (test.Age - Mean_Age) / Std_Age\n",
    "#Mean_Fare = np.mean(df.Fare)\n",
    "#Std_Fare = np.std(df.Fare)\n",
    "test.Fare = (test.Fare - Mean_Fare) / Std_Fare"
   ]
  },
  {
   "cell_type": "code",
   "execution_count": 508,
   "id": "8d40e5fc-e2a6-467e-897e-e7a8267afa13",
   "metadata": {},
   "outputs": [
    {
     "data": {
      "text/html": [
       "<div>\n",
       "<style scoped>\n",
       "    .dataframe tbody tr th:only-of-type {\n",
       "        vertical-align: middle;\n",
       "    }\n",
       "\n",
       "    .dataframe tbody tr th {\n",
       "        vertical-align: top;\n",
       "    }\n",
       "\n",
       "    .dataframe thead th {\n",
       "        text-align: right;\n",
       "    }\n",
       "</style>\n",
       "<table border=\"1\" class=\"dataframe\">\n",
       "  <thead>\n",
       "    <tr style=\"text-align: right;\">\n",
       "      <th></th>\n",
       "      <th>PassengerId</th>\n",
       "      <th>Pclass</th>\n",
       "      <th>Sex</th>\n",
       "      <th>Age</th>\n",
       "      <th>SibSp</th>\n",
       "      <th>Parch</th>\n",
       "      <th>Fare</th>\n",
       "      <th>Embarked</th>\n",
       "    </tr>\n",
       "  </thead>\n",
       "  <tbody>\n",
       "    <tr>\n",
       "      <th>0</th>\n",
       "      <td>892</td>\n",
       "      <td>3</td>\n",
       "      <td>1</td>\n",
       "      <td>0.436763</td>\n",
       "      <td>0</td>\n",
       "      <td>0</td>\n",
       "      <td>-0.490783</td>\n",
       "      <td>1</td>\n",
       "    </tr>\n",
       "    <tr>\n",
       "      <th>1</th>\n",
       "      <td>893</td>\n",
       "      <td>3</td>\n",
       "      <td>0</td>\n",
       "      <td>1.388834</td>\n",
       "      <td>1</td>\n",
       "      <td>0</td>\n",
       "      <td>-0.507479</td>\n",
       "      <td>2</td>\n",
       "    </tr>\n",
       "    <tr>\n",
       "      <th>2</th>\n",
       "      <td>894</td>\n",
       "      <td>2</td>\n",
       "      <td>1</td>\n",
       "      <td>2.531319</td>\n",
       "      <td>0</td>\n",
       "      <td>0</td>\n",
       "      <td>-0.453367</td>\n",
       "      <td>1</td>\n",
       "    </tr>\n",
       "    <tr>\n",
       "      <th>3</th>\n",
       "      <td>895</td>\n",
       "      <td>3</td>\n",
       "      <td>1</td>\n",
       "      <td>-0.134480</td>\n",
       "      <td>0</td>\n",
       "      <td>0</td>\n",
       "      <td>-0.474005</td>\n",
       "      <td>2</td>\n",
       "    </tr>\n",
       "    <tr>\n",
       "      <th>4</th>\n",
       "      <td>896</td>\n",
       "      <td>3</td>\n",
       "      <td>0</td>\n",
       "      <td>-0.515308</td>\n",
       "      <td>1</td>\n",
       "      <td>1</td>\n",
       "      <td>-0.401017</td>\n",
       "      <td>2</td>\n",
       "    </tr>\n",
       "  </tbody>\n",
       "</table>\n",
       "</div>"
      ],
      "text/plain": [
       "   PassengerId  Pclass  Sex       Age  SibSp  Parch      Fare  Embarked\n",
       "0          892       3    1  0.436763      0      0 -0.490783         1\n",
       "1          893       3    0  1.388834      1      0 -0.507479         2\n",
       "2          894       2    1  2.531319      0      0 -0.453367         1\n",
       "3          895       3    1 -0.134480      0      0 -0.474005         2\n",
       "4          896       3    0 -0.515308      1      1 -0.401017         2"
      ]
     },
     "execution_count": 508,
     "metadata": {},
     "output_type": "execute_result"
    }
   ],
   "source": [
    "test.head()"
   ]
  },
  {
   "cell_type": "code",
   "execution_count": 509,
   "id": "517fca95-356c-482b-9110-cc143945d3be",
   "metadata": {},
   "outputs": [],
   "source": [
    "test= test[['Pclass','Sex','Age','Fare']]"
   ]
  },
  {
   "cell_type": "code",
   "execution_count": 510,
   "id": "1c0b386b-d550-4729-9561-53144845e897",
   "metadata": {},
   "outputs": [],
   "source": [
    "y=model.predict(test)"
   ]
  },
  {
   "cell_type": "code",
   "execution_count": 511,
   "id": "542a6b5c-d90f-496b-8c16-37bce7789194",
   "metadata": {},
   "outputs": [],
   "source": [
    "test = pd.read_csv('test.csv')"
   ]
  },
  {
   "cell_type": "code",
   "execution_count": 512,
   "id": "915f7710-83d3-42cc-afa2-b6f5c021d47f",
   "metadata": {},
   "outputs": [],
   "source": [
    "test['Survived'] = y"
   ]
  },
  {
   "cell_type": "code",
   "execution_count": 513,
   "id": "beb9da17-8960-4370-b3f5-82f24dc50bef",
   "metadata": {},
   "outputs": [],
   "source": [
    "final = test[['PassengerId','Survived']]"
   ]
  },
  {
   "cell_type": "code",
   "execution_count": 514,
   "id": "9c8bb5b7-e5cc-4355-b478-1a86ca3e0cce",
   "metadata": {},
   "outputs": [
    {
     "data": {
      "text/html": [
       "<div>\n",
       "<style scoped>\n",
       "    .dataframe tbody tr th:only-of-type {\n",
       "        vertical-align: middle;\n",
       "    }\n",
       "\n",
       "    .dataframe tbody tr th {\n",
       "        vertical-align: top;\n",
       "    }\n",
       "\n",
       "    .dataframe thead th {\n",
       "        text-align: right;\n",
       "    }\n",
       "</style>\n",
       "<table border=\"1\" class=\"dataframe\">\n",
       "  <thead>\n",
       "    <tr style=\"text-align: right;\">\n",
       "      <th></th>\n",
       "      <th>PassengerId</th>\n",
       "      <th>Survived</th>\n",
       "    </tr>\n",
       "  </thead>\n",
       "  <tbody>\n",
       "    <tr>\n",
       "      <th>0</th>\n",
       "      <td>892</td>\n",
       "      <td>0</td>\n",
       "    </tr>\n",
       "    <tr>\n",
       "      <th>1</th>\n",
       "      <td>893</td>\n",
       "      <td>0</td>\n",
       "    </tr>\n",
       "    <tr>\n",
       "      <th>2</th>\n",
       "      <td>894</td>\n",
       "      <td>0</td>\n",
       "    </tr>\n",
       "    <tr>\n",
       "      <th>3</th>\n",
       "      <td>895</td>\n",
       "      <td>0</td>\n",
       "    </tr>\n",
       "    <tr>\n",
       "      <th>4</th>\n",
       "      <td>896</td>\n",
       "      <td>1</td>\n",
       "    </tr>\n",
       "  </tbody>\n",
       "</table>\n",
       "</div>"
      ],
      "text/plain": [
       "   PassengerId  Survived\n",
       "0          892         0\n",
       "1          893         0\n",
       "2          894         0\n",
       "3          895         0\n",
       "4          896         1"
      ]
     },
     "execution_count": 514,
     "metadata": {},
     "output_type": "execute_result"
    }
   ],
   "source": [
    "final.head()"
   ]
  },
  {
   "cell_type": "code",
   "execution_count": 515,
   "id": "c9b757f9-a7ef-45a7-816e-d760de086d7b",
   "metadata": {},
   "outputs": [],
   "source": [
    "final.to_csv('data8.csv', index=False)"
   ]
  },
  {
   "cell_type": "code",
   "execution_count": null,
   "id": "8aa310e6-2d4d-43a3-9ee2-877f6aafbde3",
   "metadata": {},
   "outputs": [],
   "source": []
  }
 ],
 "metadata": {
  "kernelspec": {
   "display_name": "Python 3 (ipykernel)",
   "language": "python",
   "name": "python3"
  },
  "language_info": {
   "codemirror_mode": {
    "name": "ipython",
    "version": 3
   },
   "file_extension": ".py",
   "mimetype": "text/x-python",
   "name": "python",
   "nbconvert_exporter": "python",
   "pygments_lexer": "ipython3",
   "version": "3.11.5"
  }
 },
 "nbformat": 4,
 "nbformat_minor": 5
}
